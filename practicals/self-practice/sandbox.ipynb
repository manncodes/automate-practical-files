{
 "cells": [
  {
   "cell_type": "markdown",
   "source": [
    "1. Add on to the previous program by asking the user for another number and printing out that many copies of the previous message. (Hint: order of operations exists in Python)\r\n",
    "2. Print out that many copies of the previous message on separate lines. (Hint: the string \"\\n is the same as\r\n",
    "pressing the ENTER button)"
   ],
   "metadata": {}
  },
  {
   "cell_type": "code",
   "execution_count": 1,
   "source": [
    "def print_many():\r\n",
    "    times = int(input(\"Enter number of times to print: \"))\r\n",
    "    message = \"Ee Haaloo!\"\r\n",
    "    print((message + \"\\n\") * times)\r\n",
    "\r\n",
    "\r\n",
    "if __name__ == \"__main__\":\r\n",
    "    print_many()"
   ],
   "outputs": [
    {
     "output_type": "stream",
     "name": "stdout",
     "text": [
      "Ee Haaloo!\n",
      "Ee Haaloo!\n",
      "Ee Haaloo!\n",
      "\n"
     ]
    }
   ],
   "metadata": {}
  },
  {
   "cell_type": "markdown",
   "source": [
    "1. If the number is a multiple of 4, print out a different message.\r\n",
    "2. Ask the user for two numbers: one number to check (call it num) and one number to divide by (check). If\r\n",
    "check divides evenly into num, tell that to the user. If not, print a different appropriate message"
   ],
   "metadata": {}
  },
  {
   "cell_type": "code",
   "execution_count": 2,
   "source": [
    "num = int(input())\r\n",
    "div = int(input())\r\n",
    "\r\n",
    "if num%div == 0:\r\n",
    "    print('completely divides')\r\n",
    "else:\r\n",
    "    print('does not completely divide')"
   ],
   "outputs": [
    {
     "output_type": "stream",
     "name": "stdout",
     "text": [
      "does not completely divide\n"
     ]
    }
   ],
   "metadata": {}
  },
  {
   "cell_type": "markdown",
   "source": [
    "1. Instead of printing the elements one by one, make a new list that has all the elements less than 5 from\r\n",
    "this list in it and print out this new list.\r\n",
    "2. Write this in one line of Python.\r\n",
    "3. Ask the user for a number and return a list that contains only elements from the original list that are\r\n",
    "smaller than that number given by the user."
   ],
   "metadata": {}
  },
  {
   "cell_type": "code",
   "execution_count": 4,
   "source": [
    "numbers = list(map(int,input(\"Enter space seperated numbers:\").split()))\r\n",
    "threshold = int(input(\"Enter threshold:\"))\r\n",
    "\r\n",
    "bigger_than_threshold = list(filter(lambda x: x>threshold, numbers))\r\n",
    "print(bigger_than_threshold)"
   ],
   "outputs": [
    {
     "output_type": "stream",
     "name": "stdout",
     "text": [
      "[4, 5, 6, 7]\n"
     ]
    }
   ],
   "metadata": {}
  },
  {
   "cell_type": "markdown",
   "source": [
    "1. Randomly generate two lists to test this...\r\n",
    "**to test what?**"
   ],
   "metadata": {}
  },
  {
   "cell_type": "code",
   "execution_count": 13,
   "source": [
    "import random\r\n",
    "#randomly generate two list of numbers\r\n",
    "list1 = [random.randint(1,100) for i in range(10)]\r\n",
    "list2 = [random.randint(1,100) for i in range(10)]\r\n",
    "\r\n",
    "print(f\"{list1 = }\")\r\n",
    "print(f\"{list2 = }\")\r\n",
    "#find common numbers in the two lists using lambdas\r\n",
    "common = list(filter(lambda x: x in list1, list2))\r\n",
    "print(common)"
   ],
   "outputs": [
    {
     "output_type": "stream",
     "name": "stdout",
     "text": [
      "list1 = [49, 91, 21, 62, 9, 72, 68, 92, 68, 71]\n",
      "list2 = [64, 52, 79, 91, 52, 25, 59, 62, 50, 50]\n",
      "[91, 62]\n"
     ]
    }
   ],
   "metadata": {}
  }
 ],
 "metadata": {
  "orig_nbformat": 4,
  "language_info": {
   "name": "python",
   "version": "3.8.3",
   "mimetype": "text/x-python",
   "codemirror_mode": {
    "name": "ipython",
    "version": 3
   },
   "pygments_lexer": "ipython3",
   "nbconvert_exporter": "python",
   "file_extension": ".py"
  },
  "kernelspec": {
   "name": "python3",
   "display_name": "Python 3.8.3 64-bit ('base': conda)"
  },
  "interpreter": {
   "hash": "cef9e06bb236b2a8629b07e87a04b187b952a0f661eff5533360a155783f0c33"
  }
 },
 "nbformat": 4,
 "nbformat_minor": 2
}